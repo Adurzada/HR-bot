{
 "cells": [
  {
   "cell_type": "code",
   "execution_count": 1,
   "id": "fc12ee46",
   "metadata": {
    "scrolled": true
   },
   "outputs": [],
   "source": [
    "from telegram.ext import *\n",
    "from telegram import Bot\n",
    "\n",
    "\n",
    "apikeytg = \"5549674623:AAGaqGDqJGfg1shyOY4jmINpKG5U8BkW9XY\"\n"
   ]
  },
  {
   "cell_type": "code",
   "execution_count": 2,
   "id": "60393330",
   "metadata": {
    "scrolled": true
   },
   "outputs": [
    {
     "name": "stdout",
     "output_type": "stream",
     "text": [
      "We are good, maybe\n"
     ]
    }
   ],
   "source": [
    "peoples={}\n",
    "n = -1\n",
    "\n",
    "bot = Bot(apikeytg)\n",
    "\n",
    "\n",
    "def start_command(update, context):\n",
    "    print(str(update.message.chat.id))\n",
    "\n",
    "\n",
    "def help_command(update, context):\n",
    "    chatid = int(update.message.chat.id)\n",
    "\n",
    "    bot.send_message(chatid, 'Possible options:\\n/helpme\\n/write\\n/all\\n/search')\n",
    "\n",
    "\n",
    "def handle_message(update, context):\n",
    "    text = str(update.message.text)[1:]\n",
    "    chatid = int(update.message.chat.id)\n",
    "    print(\"received |\" + text + \"|\")\n",
    "    if text[:5] == \"write\":\n",
    "        person = (text.split('\\n'))\n",
    "        print(str(person))\n",
    "        idd = len(peoples.keys())\n",
    "        peoples[idd] = {}\n",
    "        print(peoples[idd])\n",
    "        peoples[idd]['Name'] = person[1]\n",
    "        peoples[idd]['Graduated'] = person[2]\n",
    "        peoples[idd]['Sphere'] = person[3]\n",
    "        peoples[idd]['Company'] = person[4]\n",
    "        peoples[idd]['Occupation'] = person[5]\n",
    "        peoples[idd]['Added'] = person[6]\n",
    "        peoples[idd]['Interests'] = person[7]\n",
    "        peoples[idd]['Contacts'] = person[8].split(\"#\")\n",
    "        peoples[idd]['Capital'] = person[9]\n",
    "        peoples[idd]['Help'] = person[10]\n",
    "    elif text == 'help':\n",
    "        t = ''\n",
    "        t = 'Possible options:\\n/help - this command\\n/format - learn how to propperly add alumni\\n/write - add a new user\\n/all - see all alumni\\n/search - enter the keyword and search'\n",
    "        \n",
    "        bot.send_message(chatid, t)\n",
    "    elif text == 'format':\n",
    "        t = ''\n",
    "        t = t + \"Please follow the input format strictly.\\n\\n\"\n",
    "        t = t + \"General rules:\\n| Press enter after each entry\\n (Do not send the message, just make a new line)\\n! Do not press ENTER unless making a new entry!\\n\"\n",
    "        t = t + \"| In Contacts, after each entry, add #\\n For example: Telegram:@laka_a#Instagram:latif_adurzada#\\n After each entry even if it is the last one\\n Or even if it is the only one\"\n",
    "        t = t + \"\\n| In Interests - if not specified or you have no idea,\\n Then just write No\\n\"\n",
    "        t = t + \"| In Added By - <Your_Telegram_nick,Name,Surname>\\n Comma separated! No Spaces! No Brackets?:)\\n\"\n",
    "        t = t + \"| In Help - explain in detail. Do not use ENTER button,\\n use dots to separate sentences\"\n",
    "        t = t + \"\\n\"\n",
    "        t = t + \"The Format of the message:\\n\\n/write\\nName\\nUniversity Graduated\\nSphere of Work\\nCompany Associated\\nOccupation or Position\\nAdded by - comma separated\\nInterests - in one sentence\\nContacts - # separated\\n\"\n",
    "        t = t + \"Capital, 0 if undisclosed\\nHow he or she could help - any amount of words, just no new lines\\n\\n\\n\"\n",
    "        t = t + \"Then send. If any questions about the format, please ask @laka_a. Xoshbext Olasiz!\"\n",
    "        bot.send_message(chatid, t)\n",
    "    elif text == 'all':\n",
    "        l = len(peoples.keys())\n",
    "        if l == 0:\n",
    "            bot.send_message(chatid, 'No People Yet!')\n",
    "        elif l > 0:\n",
    "            t = \"\"\n",
    "            for i in peoples.keys():\n",
    "                t = \" ID: \" + str(i) + \"\\n\"\n",
    "                for j in peoples[i].keys():\n",
    "                    t = t + j + \":  \" + str(peoples[i][j]) + \"\\n\"\n",
    "                t = t+\"\\n-------------------\\n\"\n",
    "            bot.send_message(chatid, t)\n",
    "        \n",
    "        \n",
    "    \n",
    "\n",
    "\n",
    "def error(update, context):\n",
    "    bot.send_message(861377011,\"Error!\")\n",
    "\n",
    "\n",
    "def main():\n",
    "    updater = Updater(apikeytg, use_context=True)\n",
    "    dp = updater.dispatcher\n",
    "    dp.add_handler(CommandHandler(\"start\", start_command))\n",
    "    dp.add_handler(MessageHandler(Filters.text, handle_message))\n",
    "    dp.add_error_handler(error)\n",
    "    updater.start_polling(0.1)\n",
    "    updater.idle()\n",
    "\n",
    "\n",
    "print('We are good, maybe')"
   ]
  },
  {
   "cell_type": "code",
   "execution_count": null,
   "id": "c3220c2d",
   "metadata": {
    "scrolled": false
   },
   "outputs": [
    {
     "name": "stdout",
     "output_type": "stream",
     "text": [
      "received |write\n",
      "Latif Adurzada\n",
      "Purdue\n",
      "Data Science\n",
      "KPMG\n",
      "Deal Advisory\n",
      "Latif Adurzada\n",
      "It,AI,Quantative Finance, Math, Biology, Algorithmic trading, medium writing, girls\n",
      "@laka_a#ig:latif_adurzada#linkedin:latif adurzada#\n",
      "0\n",
      "Brains maybe|\n",
      "['write', 'Latif Adurzada', 'Purdue', 'Data Science', 'KPMG', 'Deal Advisory', 'Latif Adurzada', 'It,AI,Quantative Finance, Math, Biology, Algorithmic trading, medium writing, girls', '@laka_a#ig:latif_adurzada#linkedin:latif adurzada#', '0', 'Brains maybe']\n",
      "{}\n",
      "received |all|\n",
      "received |help|\n",
      "received |format|\n",
      "received |all|\n",
      "447382010\n"
     ]
    }
   ],
   "source": [
    "main()"
   ]
  },
  {
   "cell_type": "code",
   "execution_count": null,
   "id": "446c5368",
   "metadata": {},
   "outputs": [],
   "source": [
    "text = \"Name\""
   ]
  }
 ],
 "metadata": {
  "kernelspec": {
   "display_name": "Python 3 (ipykernel)",
   "language": "python",
   "name": "python3"
  },
  "language_info": {
   "codemirror_mode": {
    "name": "ipython",
    "version": 3
   },
   "file_extension": ".py",
   "mimetype": "text/x-python",
   "name": "python",
   "nbconvert_exporter": "python",
   "pygments_lexer": "ipython3",
   "version": "3.9.7"
  }
 },
 "nbformat": 4,
 "nbformat_minor": 5
}
